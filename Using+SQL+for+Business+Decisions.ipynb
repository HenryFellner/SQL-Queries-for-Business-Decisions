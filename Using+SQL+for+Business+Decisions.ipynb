{
 "cells": [
  {
   "cell_type": "markdown",
   "metadata": {},
   "source": [
    "# Using SQL for Business Decisions\n",
    "\n",
    "We can use a database that stores records for song sales at a music store, Chinook, and use SQL to make business decisions based on different needs, such as evaluating what kinds of albums we should try to acquire more of, or which employees are performing well in terms of sales.\n",
    "\n",
    "We begin by loading in the database to SQL, and exploring it."
   ]
  },
  {
   "cell_type": "code",
   "execution_count": 1,
   "metadata": {
    "collapsed": false
   },
   "outputs": [
    {
     "data": {
      "text/plain": [
       "'Connected: None@chinook.db'"
      ]
     },
     "execution_count": 1,
     "metadata": {},
     "output_type": "execute_result"
    }
   ],
   "source": [
    "%%capture\n",
    "%load_ext sql\n",
    "%sql sqlite:///chinook.db"
   ]
  },
  {
   "cell_type": "markdown",
   "metadata": {},
   "source": [
    "We use the above code to connect the project to our database (Chinook)."
   ]
  },
  {
   "cell_type": "code",
   "execution_count": 2,
   "metadata": {
    "collapsed": false
   },
   "outputs": [
    {
     "name": "stdout",
     "output_type": "stream",
     "text": [
      "Done.\n"
     ]
    },
    {
     "data": {
      "text/html": [
       "<table>\n",
       "    <tr>\n",
       "        <th>name</th>\n",
       "        <th>type</th>\n",
       "    </tr>\n",
       "    <tr>\n",
       "        <td>album</td>\n",
       "        <td>table</td>\n",
       "    </tr>\n",
       "    <tr>\n",
       "        <td>artist</td>\n",
       "        <td>table</td>\n",
       "    </tr>\n",
       "    <tr>\n",
       "        <td>customer</td>\n",
       "        <td>table</td>\n",
       "    </tr>\n",
       "    <tr>\n",
       "        <td>employee</td>\n",
       "        <td>table</td>\n",
       "    </tr>\n",
       "    <tr>\n",
       "        <td>genre</td>\n",
       "        <td>table</td>\n",
       "    </tr>\n",
       "    <tr>\n",
       "        <td>invoice</td>\n",
       "        <td>table</td>\n",
       "    </tr>\n",
       "    <tr>\n",
       "        <td>invoice_line</td>\n",
       "        <td>table</td>\n",
       "    </tr>\n",
       "    <tr>\n",
       "        <td>media_type</td>\n",
       "        <td>table</td>\n",
       "    </tr>\n",
       "    <tr>\n",
       "        <td>playlist</td>\n",
       "        <td>table</td>\n",
       "    </tr>\n",
       "    <tr>\n",
       "        <td>playlist_track</td>\n",
       "        <td>table</td>\n",
       "    </tr>\n",
       "    <tr>\n",
       "        <td>track</td>\n",
       "        <td>table</td>\n",
       "    </tr>\n",
       "</table>"
      ],
      "text/plain": [
       "[('album', 'table'),\n",
       " ('artist', 'table'),\n",
       " ('customer', 'table'),\n",
       " ('employee', 'table'),\n",
       " ('genre', 'table'),\n",
       " ('invoice', 'table'),\n",
       " ('invoice_line', 'table'),\n",
       " ('media_type', 'table'),\n",
       " ('playlist', 'table'),\n",
       " ('playlist_track', 'table'),\n",
       " ('track', 'table')]"
      ]
     },
     "execution_count": 2,
     "metadata": {},
     "output_type": "execute_result"
    }
   ],
   "source": [
    "%%sql\n",
    "SELECT\n",
    "    name,\n",
    "    type\n",
    "FROM sqlite_master\n",
    "WHERE type IN (\"table\",\"view\");"
   ]
  },
  {
   "cell_type": "markdown",
   "metadata": {},
   "source": [
    "Our data tracks the music store's purchases, including information on purchases, customers, and employees, but also on specific media like the song, artist, and album. This is all in the above tables.\n",
    "\n",
    "As an example of the kinds of things we can do with the data, the following query creates two subqueries that build off of one another before executing the main query."
   ]
  },
  {
   "cell_type": "code",
   "execution_count": 3,
   "metadata": {
    "collapsed": false
   },
   "outputs": [
    {
     "name": "stdout",
     "output_type": "stream",
     "text": [
      "Done.\n"
     ]
    },
    {
     "data": {
      "text/html": [
       "<table>\n",
       "    <tr>\n",
       "        <th>country</th>\n",
       "        <th>customer_name</th>\n",
       "        <th>total_purchased</th>\n",
       "    </tr>\n",
       "    <tr>\n",
       "        <td>Argentina</td>\n",
       "        <td>Diego Gutiérrez</td>\n",
       "        <td>39.6</td>\n",
       "    </tr>\n",
       "    <tr>\n",
       "        <td>Australia</td>\n",
       "        <td>Mark Taylor</td>\n",
       "        <td>81.18</td>\n",
       "    </tr>\n",
       "    <tr>\n",
       "        <td>Austria</td>\n",
       "        <td>Astrid Gruber</td>\n",
       "        <td>69.3</td>\n",
       "    </tr>\n",
       "    <tr>\n",
       "        <td>Belgium</td>\n",
       "        <td>Daan Peeters</td>\n",
       "        <td>60.38999999999999</td>\n",
       "    </tr>\n",
       "    <tr>\n",
       "        <td>Brazil</td>\n",
       "        <td>Luís Gonçalves</td>\n",
       "        <td>108.89999999999998</td>\n",
       "    </tr>\n",
       "    <tr>\n",
       "        <td>Canada</td>\n",
       "        <td>François Tremblay</td>\n",
       "        <td>99.99</td>\n",
       "    </tr>\n",
       "    <tr>\n",
       "        <td>Chile</td>\n",
       "        <td>Luis Rojas</td>\n",
       "        <td>97.02000000000001</td>\n",
       "    </tr>\n",
       "    <tr>\n",
       "        <td>Czech Republic</td>\n",
       "        <td>František Wichterlová</td>\n",
       "        <td>144.54000000000002</td>\n",
       "    </tr>\n",
       "    <tr>\n",
       "        <td>Denmark</td>\n",
       "        <td>Kara Nielsen</td>\n",
       "        <td>37.61999999999999</td>\n",
       "    </tr>\n",
       "    <tr>\n",
       "        <td>Finland</td>\n",
       "        <td>Terhi Hämäläinen</td>\n",
       "        <td>79.2</td>\n",
       "    </tr>\n",
       "    <tr>\n",
       "        <td>France</td>\n",
       "        <td>Wyatt Girard</td>\n",
       "        <td>99.99</td>\n",
       "    </tr>\n",
       "    <tr>\n",
       "        <td>Germany</td>\n",
       "        <td>Fynn Zimmermann</td>\n",
       "        <td>94.05000000000001</td>\n",
       "    </tr>\n",
       "    <tr>\n",
       "        <td>Hungary</td>\n",
       "        <td>Ladislav Kovács</td>\n",
       "        <td>78.21</td>\n",
       "    </tr>\n",
       "    <tr>\n",
       "        <td>India</td>\n",
       "        <td>Manoj Pareek</td>\n",
       "        <td>111.86999999999999</td>\n",
       "    </tr>\n",
       "    <tr>\n",
       "        <td>Ireland</td>\n",
       "        <td>Hugh O&#x27;Reilly</td>\n",
       "        <td>114.83999999999997</td>\n",
       "    </tr>\n",
       "    <tr>\n",
       "        <td>Italy</td>\n",
       "        <td>Lucas Mancini</td>\n",
       "        <td>50.49</td>\n",
       "    </tr>\n",
       "    <tr>\n",
       "        <td>Netherlands</td>\n",
       "        <td>Johannes Van der Berg</td>\n",
       "        <td>65.34</td>\n",
       "    </tr>\n",
       "    <tr>\n",
       "        <td>Norway</td>\n",
       "        <td>Bjørn Hansen</td>\n",
       "        <td>72.27000000000001</td>\n",
       "    </tr>\n",
       "    <tr>\n",
       "        <td>Poland</td>\n",
       "        <td>Stanisław Wójcik</td>\n",
       "        <td>76.22999999999999</td>\n",
       "    </tr>\n",
       "    <tr>\n",
       "        <td>Portugal</td>\n",
       "        <td>João Fernandes</td>\n",
       "        <td>102.96000000000001</td>\n",
       "    </tr>\n",
       "    <tr>\n",
       "        <td>Spain</td>\n",
       "        <td>Enrique Muñoz</td>\n",
       "        <td>98.01</td>\n",
       "    </tr>\n",
       "    <tr>\n",
       "        <td>Sweden</td>\n",
       "        <td>Joakim Johansson</td>\n",
       "        <td>75.24</td>\n",
       "    </tr>\n",
       "    <tr>\n",
       "        <td>USA</td>\n",
       "        <td>Jack Smith</td>\n",
       "        <td>98.01</td>\n",
       "    </tr>\n",
       "    <tr>\n",
       "        <td>United Kingdom</td>\n",
       "        <td>Phil Hughes</td>\n",
       "        <td>98.01</td>\n",
       "    </tr>\n",
       "</table>"
      ],
      "text/plain": [
       "[('Argentina', 'Diego Gutiérrez', 39.6),\n",
       " ('Australia', 'Mark Taylor', 81.18),\n",
       " ('Austria', 'Astrid Gruber', 69.3),\n",
       " ('Belgium', 'Daan Peeters', 60.38999999999999),\n",
       " ('Brazil', 'Luís Gonçalves', 108.89999999999998),\n",
       " ('Canada', 'François Tremblay', 99.99),\n",
       " ('Chile', 'Luis Rojas', 97.02000000000001),\n",
       " ('Czech Republic', 'František Wichterlová', 144.54000000000002),\n",
       " ('Denmark', 'Kara Nielsen', 37.61999999999999),\n",
       " ('Finland', 'Terhi Hämäläinen', 79.2),\n",
       " ('France', 'Wyatt Girard', 99.99),\n",
       " ('Germany', 'Fynn Zimmermann', 94.05000000000001),\n",
       " ('Hungary', 'Ladislav Kovács', 78.21),\n",
       " ('India', 'Manoj Pareek', 111.86999999999999),\n",
       " ('Ireland', \"Hugh O'Reilly\", 114.83999999999997),\n",
       " ('Italy', 'Lucas Mancini', 50.49),\n",
       " ('Netherlands', 'Johannes Van der Berg', 65.34),\n",
       " ('Norway', 'Bjørn Hansen', 72.27000000000001),\n",
       " ('Poland', 'Stanisław Wójcik', 76.22999999999999),\n",
       " ('Portugal', 'João Fernandes', 102.96000000000001),\n",
       " ('Spain', 'Enrique Muñoz', 98.01),\n",
       " ('Sweden', 'Joakim Johansson', 75.24),\n",
       " ('USA', 'Jack Smith', 98.01),\n",
       " ('United Kingdom', 'Phil Hughes', 98.01)]"
      ]
     },
     "execution_count": 3,
     "metadata": {},
     "output_type": "execute_result"
    }
   ],
   "source": [
    "%%sql\n",
    "WITH\n",
    "    total_by_cust AS\n",
    "    (\n",
    "        SELECT i.customer_id cust, c.country, SUM(i.total) total_purchases\n",
    "        FROM invoice i \n",
    "        INNER JOIN customer c on c.customer_id = i.customer_id\n",
    "        GROUP BY 1, 2\n",
    "        ),\n",
    "   max_by_country AS\n",
    "   (\n",
    "       SELECT MAX(total_purchases) total_purchased, country, cust FROM total_by_cust\n",
    "       GROUP BY 2\n",
    "       )\n",
    "\n",
    "SELECT mc.country country, \n",
    "    cu.first_name || \" \" || cu.last_name customer_name,\n",
    "    mc.total_purchased total_purchased\n",
    "    FROM max_by_country mc\n",
    "    INNER JOIN customer cu ON cu.customer_id = mc.cust\n",
    "    ORDER BY 1;\n",
    "    "
   ]
  },
  {
   "cell_type": "markdown",
   "metadata": {},
   "source": [
    "Specifically, this SQL code first creates a table of the total amount spent by each customer over all of that customer's purchases, including that customer's country. The next subquery takes only the max amount purchased from each country. The final main query simply reformats the data to include the customers' full name."
   ]
  },
  {
   "cell_type": "markdown",
   "metadata": {},
   "source": [
    "## Finding Best-Sellers under Specific Filters\n",
    "\n",
    "Say we are told to find the genres that sell the most tracks within the United States. We need to filter our data to aggregate tracks sold, grouped by genre, and only including US sales. Let's write a query to do so."
   ]
  },
  {
   "cell_type": "code",
   "execution_count": 4,
   "metadata": {
    "collapsed": false
   },
   "outputs": [
    {
     "name": "stdout",
     "output_type": "stream",
     "text": [
      "Done.\n"
     ]
    },
    {
     "data": {
      "text/html": [
       "<table>\n",
       "    <tr>\n",
       "        <th>invoice_line_id</th>\n",
       "        <th>invoice_id</th>\n",
       "        <th>track_id</th>\n",
       "        <th>unit_price</th>\n",
       "        <th>quantity</th>\n",
       "    </tr>\n",
       "</table>"
      ],
      "text/plain": [
       "[]"
      ]
     },
     "execution_count": 4,
     "metadata": {},
     "output_type": "execute_result"
    }
   ],
   "source": [
    "%%sql\n",
    "SELECT * FROM invoice_line\n",
    "WHERE quantity != 1\n",
    "LIMIT 10;"
   ]
  },
  {
   "cell_type": "markdown",
   "metadata": {},
   "source": [
    "We can see the quantity for every track is always 1, so we don't have to account for this in our totals for our main queries, but we will do so anyway so the same query can be used if that ever changes."
   ]
  },
  {
   "cell_type": "code",
   "execution_count": 5,
   "metadata": {
    "collapsed": false,
    "scrolled": true
   },
   "outputs": [
    {
     "name": "stdout",
     "output_type": "stream",
     "text": [
      "Done.\n"
     ]
    },
    {
     "data": {
      "text/html": [
       "<table>\n",
       "    <tr>\n",
       "        <th>Genre</th>\n",
       "        <th>Number_Sold</th>\n",
       "        <th>Percentage_Sold</th>\n",
       "    </tr>\n",
       "    <tr>\n",
       "        <td>Rock</td>\n",
       "        <td>561</td>\n",
       "        <td>53.38</td>\n",
       "    </tr>\n",
       "    <tr>\n",
       "        <td>Alternative &amp; Punk</td>\n",
       "        <td>130</td>\n",
       "        <td>12.37</td>\n",
       "    </tr>\n",
       "    <tr>\n",
       "        <td>Metal</td>\n",
       "        <td>124</td>\n",
       "        <td>11.8</td>\n",
       "    </tr>\n",
       "    <tr>\n",
       "        <td>R&amp;B/Soul</td>\n",
       "        <td>53</td>\n",
       "        <td>5.04</td>\n",
       "    </tr>\n",
       "    <tr>\n",
       "        <td>Blues</td>\n",
       "        <td>36</td>\n",
       "        <td>3.43</td>\n",
       "    </tr>\n",
       "    <tr>\n",
       "        <td>Alternative</td>\n",
       "        <td>35</td>\n",
       "        <td>3.33</td>\n",
       "    </tr>\n",
       "    <tr>\n",
       "        <td>Latin</td>\n",
       "        <td>22</td>\n",
       "        <td>2.09</td>\n",
       "    </tr>\n",
       "    <tr>\n",
       "        <td>Pop</td>\n",
       "        <td>22</td>\n",
       "        <td>2.09</td>\n",
       "    </tr>\n",
       "    <tr>\n",
       "        <td>Hip Hop/Rap</td>\n",
       "        <td>20</td>\n",
       "        <td>1.9</td>\n",
       "    </tr>\n",
       "    <tr>\n",
       "        <td>Jazz</td>\n",
       "        <td>14</td>\n",
       "        <td>1.33</td>\n",
       "    </tr>\n",
       "    <tr>\n",
       "        <td>Easy Listening</td>\n",
       "        <td>13</td>\n",
       "        <td>1.24</td>\n",
       "    </tr>\n",
       "    <tr>\n",
       "        <td>Reggae</td>\n",
       "        <td>6</td>\n",
       "        <td>0.57</td>\n",
       "    </tr>\n",
       "    <tr>\n",
       "        <td>Electronica/Dance</td>\n",
       "        <td>5</td>\n",
       "        <td>0.48</td>\n",
       "    </tr>\n",
       "    <tr>\n",
       "        <td>Classical</td>\n",
       "        <td>4</td>\n",
       "        <td>0.38</td>\n",
       "    </tr>\n",
       "    <tr>\n",
       "        <td>Heavy Metal</td>\n",
       "        <td>3</td>\n",
       "        <td>0.29</td>\n",
       "    </tr>\n",
       "    <tr>\n",
       "        <td>Soundtrack</td>\n",
       "        <td>2</td>\n",
       "        <td>0.19</td>\n",
       "    </tr>\n",
       "    <tr>\n",
       "        <td>TV Shows</td>\n",
       "        <td>1</td>\n",
       "        <td>0.1</td>\n",
       "    </tr>\n",
       "</table>"
      ],
      "text/plain": [
       "[('Rock', 561, 53.38),\n",
       " ('Alternative & Punk', 130, 12.37),\n",
       " ('Metal', 124, 11.8),\n",
       " ('R&B/Soul', 53, 5.04),\n",
       " ('Blues', 36, 3.43),\n",
       " ('Alternative', 35, 3.33),\n",
       " ('Latin', 22, 2.09),\n",
       " ('Pop', 22, 2.09),\n",
       " ('Hip Hop/Rap', 20, 1.9),\n",
       " ('Jazz', 14, 1.33),\n",
       " ('Easy Listening', 13, 1.24),\n",
       " ('Reggae', 6, 0.57),\n",
       " ('Electronica/Dance', 5, 0.48),\n",
       " ('Classical', 4, 0.38),\n",
       " ('Heavy Metal', 3, 0.29),\n",
       " ('Soundtrack', 2, 0.19),\n",
       " ('TV Shows', 1, 0.1)]"
      ]
     },
     "execution_count": 5,
     "metadata": {},
     "output_type": "execute_result"
    }
   ],
   "source": [
    "%%sql\n",
    "WITH\n",
    "    total_rows AS\n",
    "    (\n",
    "        SELECT SUM(invoice_line.quantity) USA_rows\n",
    "        FROM invoice_line\n",
    "        INNER JOIN invoice ON invoice.invoice_id = invoice_line.invoice_id\n",
    "        WHERE invoice.billing_country = \"USA\"\n",
    "        )\n",
    "SELECT gr.name AS Genre, SUM(il.quantity) AS Number_Sold, \n",
    "        ROUND((CAST(SUM(il.quantity) AS FLOAT)*100/(SELECT * FROM total_rows)),2) Percentage_Sold\n",
    "    FROM invoice_line il\n",
    "    INNER JOIN track tr ON tr.track_id = il.track_id\n",
    "    INNER JOIN invoice inv ON inv.invoice_id = il.invoice_id\n",
    "    INNER JOIN genre gr ON gr.genre_id = tr.genre_id\n",
    "    WHERE inv.billing_country = \"USA\"\n",
    "    GROUP BY 1\n",
    "    ORDER BY 2 DESC;"
   ]
  },
  {
   "cell_type": "markdown",
   "metadata": {},
   "source": [
    "We have taken the data grouped by genre, filtered only on USA data, and found that the most popular genres are Rock, Alternative/Punk, Metal, and R&B/Soul. So if we are trying to decide which kinds of albums to add to our store's shelves, we may choose a Rock or Punk album before a Pop or Hip-Hop album."
   ]
  },
  {
   "cell_type": "markdown",
   "metadata": {},
   "source": [
    "## Analyzing Employee Sales Performance\n",
    "\n",
    "Say we want to look at each employee at our music store and evaluate how well they are selling. We can do this by looking at each customer's total purchases, and then adding up all of an employee's customers. "
   ]
  },
  {
   "cell_type": "code",
   "execution_count": 6,
   "metadata": {
    "collapsed": false,
    "scrolled": true
   },
   "outputs": [
    {
     "name": "stdout",
     "output_type": "stream",
     "text": [
      "Done.\n"
     ]
    },
    {
     "data": {
      "text/html": [
       "<table>\n",
       "    <tr>\n",
       "        <th>Employee</th>\n",
       "        <th>Hire_Date</th>\n",
       "        <th>Sales_Dollars</th>\n",
       "    </tr>\n",
       "    <tr>\n",
       "        <td>Jane Peacock</td>\n",
       "        <td>2017-04-01 00:00:00</td>\n",
       "        <td>1731.51</td>\n",
       "    </tr>\n",
       "    <tr>\n",
       "        <td>Margaret Park</td>\n",
       "        <td>2017-05-03 00:00:00</td>\n",
       "        <td>1584.0</td>\n",
       "    </tr>\n",
       "    <tr>\n",
       "        <td>Steve Johnson</td>\n",
       "        <td>2017-10-17 00:00:00</td>\n",
       "        <td>1393.92</td>\n",
       "    </tr>\n",
       "</table>"
      ],
      "text/plain": [
       "[('Jane Peacock', '2017-04-01 00:00:00', 1731.51),\n",
       " ('Margaret Park', '2017-05-03 00:00:00', 1584.0),\n",
       " ('Steve Johnson', '2017-10-17 00:00:00', 1393.92)]"
      ]
     },
     "execution_count": 6,
     "metadata": {},
     "output_type": "execute_result"
    }
   ],
   "source": [
    "%%sql\n",
    "WITH\n",
    "    total_by_cust AS (\n",
    "        SELECT i.customer_id cust, SUM(i.total) total_purchases, c.support_rep_id support\n",
    "            FROM invoice i \n",
    "            INNER JOIN customer c on c.customer_id = i.customer_id\n",
    "            GROUP BY 1 )\n",
    "SELECT  em.first_name || \" \" || em.last_name Employee, em.hire_date Hire_Date,\n",
    "        ROUND(SUM(total_by_cust.total_purchases),2) Sales_Dollars\n",
    "    FROM employee em\n",
    "    INNER JOIN total_by_cust ON em.employee_id = total_by_cust.support\n",
    "    GROUP BY 1"
   ]
  },
  {
   "cell_type": "markdown",
   "metadata": {},
   "source": [
    "We can see that all three of our sales representatives are selling decent quantities. While Jane sells the most, she was hired first. Steve sold the least, but was hired six months after Jane. If anything, this makes it appear like Margaret is the least productive salesperson, as with only one month less than Jane, she is nearly 200 dollars behind her, but with five months more than Steve she is a only a similar amount ahead of him. It is all relative to the date this data is being collected though."
   ]
  },
  {
   "cell_type": "markdown",
   "metadata": {},
   "source": [
    "## Analyzing Sales by Country Using SQL Unions and With Clauses\n",
    "\n",
    "What if we want to look at sales data for each country? We want a comprehensive list of countries, and for each one want to know:\n",
    "* The total number of customers\n",
    "* The total amount of sales\n",
    "* The average value of sales per customer\n",
    "* The average order value\n",
    "\n",
    "We need to know this info for each country. So we first need to use a subquery to find the totals for each country, then another to format the data as desired, then a third with a union clause to separate out the countries with only a single customer into a compounded \"Other\" row, and then the main query sorts the data."
   ]
  },
  {
   "cell_type": "code",
   "execution_count": 7,
   "metadata": {
    "collapsed": false,
    "scrolled": true
   },
   "outputs": [
    {
     "name": "stdout",
     "output_type": "stream",
     "text": [
      "Done.\n"
     ]
    },
    {
     "data": {
      "text/html": [
       "<table>\n",
       "    <tr>\n",
       "        <th>country</th>\n",
       "        <th>number_customers</th>\n",
       "        <th>total_sales</th>\n",
       "        <th>sales_per_customer</th>\n",
       "        <th>average_order_value</th>\n",
       "    </tr>\n",
       "    <tr>\n",
       "        <td>USA</td>\n",
       "        <td>12</td>\n",
       "        <td>1040.49</td>\n",
       "        <td>86.71</td>\n",
       "        <td>7.94</td>\n",
       "    </tr>\n",
       "    <tr>\n",
       "        <td>Canada</td>\n",
       "        <td>8</td>\n",
       "        <td>535.59</td>\n",
       "        <td>66.95</td>\n",
       "        <td>7.05</td>\n",
       "    </tr>\n",
       "    <tr>\n",
       "        <td>Brazil</td>\n",
       "        <td>5</td>\n",
       "        <td>427.68</td>\n",
       "        <td>85.54</td>\n",
       "        <td>7.01</td>\n",
       "    </tr>\n",
       "    <tr>\n",
       "        <td>France</td>\n",
       "        <td>5</td>\n",
       "        <td>389.07</td>\n",
       "        <td>77.81</td>\n",
       "        <td>7.78</td>\n",
       "    </tr>\n",
       "    <tr>\n",
       "        <td>Germany</td>\n",
       "        <td>4</td>\n",
       "        <td>334.62</td>\n",
       "        <td>83.66</td>\n",
       "        <td>8.16</td>\n",
       "    </tr>\n",
       "    <tr>\n",
       "        <td>United Kingdom</td>\n",
       "        <td>3</td>\n",
       "        <td>245.52</td>\n",
       "        <td>81.84</td>\n",
       "        <td>8.77</td>\n",
       "    </tr>\n",
       "    <tr>\n",
       "        <td>Czech Republic</td>\n",
       "        <td>2</td>\n",
       "        <td>273.24</td>\n",
       "        <td>136.62</td>\n",
       "        <td>9.11</td>\n",
       "    </tr>\n",
       "    <tr>\n",
       "        <td>India</td>\n",
       "        <td>2</td>\n",
       "        <td>183.15</td>\n",
       "        <td>91.57</td>\n",
       "        <td>8.72</td>\n",
       "    </tr>\n",
       "    <tr>\n",
       "        <td>Portugal</td>\n",
       "        <td>2</td>\n",
       "        <td>185.13</td>\n",
       "        <td>92.57</td>\n",
       "        <td>6.38</td>\n",
       "    </tr>\n",
       "    <tr>\n",
       "        <td>Other</td>\n",
       "        <td>15</td>\n",
       "        <td>1094.94</td>\n",
       "        <td>73.0</td>\n",
       "        <td>7.45</td>\n",
       "    </tr>\n",
       "</table>"
      ],
      "text/plain": [
       "[('USA', 12, 1040.49, 86.71, 7.94),\n",
       " ('Canada', 8, 535.59, 66.95, 7.05),\n",
       " ('Brazil', 5, 427.68, 85.54, 7.01),\n",
       " ('France', 5, 389.07, 77.81, 7.78),\n",
       " ('Germany', 4, 334.62, 83.66, 8.16),\n",
       " ('United Kingdom', 3, 245.52, 81.84, 8.77),\n",
       " ('Czech Republic', 2, 273.24, 136.62, 9.11),\n",
       " ('India', 2, 183.15, 91.57, 8.72),\n",
       " ('Portugal', 2, 185.13, 92.57, 6.38),\n",
       " ('Other', 15, 1094.94, 73.0, 7.45)]"
      ]
     },
     "execution_count": 7,
     "metadata": {},
     "output_type": "execute_result"
    }
   ],
   "source": [
    "%%sql\n",
    "WITH country_totals AS (\n",
    "    SELECT cu.country, COUNT(DISTINCT cu.first_name) number_customers, \n",
    "        COUNT(inv.customer_id) number_orders, SUM(inv.total) sales \n",
    "    FROM invoice inv\n",
    "    INNER JOIN customer cu ON cu.customer_id = inv.customer_id\n",
    "    GROUP BY 1\n",
    "    ),\n",
    "\n",
    "country_finals AS (\n",
    "    SELECT country, number_customers, ROUND(sales,2) total_sales, \n",
    "        ROUND(CAST(sales/number_customers AS FLOAT),2) sales_per_customer, \n",
    "        ROUND(CAST(sales/number_orders AS FLOAT),2) average_order_value,\n",
    "        number_orders,\n",
    "        CASE\n",
    "            WHEN number_customers = 1 THEN 1\n",
    "            ELSE 0\n",
    "        END as more_or_less\n",
    "        FROM country_totals\n",
    "        ORDER BY number_customers\n",
    "),\n",
    "\n",
    "unsorted_final AS (\n",
    "SELECT country, number_customers, total_sales, sales_per_customer, \n",
    "average_order_value, more_or_less\n",
    "FROM country_finals\n",
    "WHERE more_or_less = 0\n",
    "\n",
    "UNION\n",
    "\n",
    "SELECT \"Other\" country, SUM(number_customers) number_customers, \n",
    "    SUM(total_sales) AS total_sales, ROUND(AVG(sales_per_customer),2) AS sales_per_customer,\n",
    "    ROUND(CAST(SUM(total_sales)/SUM(number_orders) AS FLOAT),2) average_order_value,\n",
    "    more_or_less\n",
    "FROM country_finals\n",
    "WHERE more_or_less = 1\n",
    ")\n",
    "SELECT country, number_customers, total_sales, sales_per_customer, average_order_value\n",
    "FROM unsorted_final\n",
    "ORDER BY more_or_less, number_customers DESC"
   ]
  },
  {
   "cell_type": "markdown",
   "metadata": {},
   "source": [
    "We can see now that while the most sales come from the United States, on a per customer and per order basis, the Czech Republic is the best bet. That said, the sample size is only two customers."
   ]
  },
  {
   "cell_type": "markdown",
   "metadata": {
    "collapsed": true
   },
   "source": [
    "## Albums vs Indivdual Tracks\n",
    "\n",
    "In an effort to save money, the store is considering purchasing only the most popular tracks from each album from record companies rather than all the tracks within an album.\n",
    "\n",
    "We are to test if this is a viable strategy by finding what percentage of purchases are albums vs full tracks. Each purchase is either full albums or individual tracks, as that is how sales are divided at the store.\n",
    "\n",
    "There are two edge cases:\n",
    "* Albums that have only one or two tracks are likely to be purchased by customers as part of a collection of individual tracks.\n",
    "* Customers may decide to manually select every track from an album, and then add a few individual tracks from other albums to their purchase.\n",
    "\n",
    "We are going to handle the first by only counting albums with more than a few tracks. We will ignore the second as it does not happen often according to previous analysis."
   ]
  },
  {
   "cell_type": "code",
   "execution_count": 8,
   "metadata": {
    "collapsed": false
   },
   "outputs": [
    {
     "name": "stdout",
     "output_type": "stream",
     "text": [
      "Done.\n"
     ]
    },
    {
     "data": {
      "text/html": [
       "<table>\n",
       "    <tr>\n",
       "        <th>invoice_line_id</th>\n",
       "        <th>invoice_id</th>\n",
       "        <th>track_id</th>\n",
       "        <th>unit_price</th>\n",
       "        <th>quantity</th>\n",
       "        <th>album_id</th>\n",
       "    </tr>\n",
       "    <tr>\n",
       "        <td>1</td>\n",
       "        <td>1</td>\n",
       "        <td>1158</td>\n",
       "        <td>0.99</td>\n",
       "        <td>1</td>\n",
       "        <td>91</td>\n",
       "    </tr>\n",
       "    <tr>\n",
       "        <td>2</td>\n",
       "        <td>1</td>\n",
       "        <td>1159</td>\n",
       "        <td>0.99</td>\n",
       "        <td>1</td>\n",
       "        <td>91</td>\n",
       "    </tr>\n",
       "    <tr>\n",
       "        <td>3</td>\n",
       "        <td>1</td>\n",
       "        <td>1160</td>\n",
       "        <td>0.99</td>\n",
       "        <td>1</td>\n",
       "        <td>91</td>\n",
       "    </tr>\n",
       "    <tr>\n",
       "        <td>4</td>\n",
       "        <td>1</td>\n",
       "        <td>1161</td>\n",
       "        <td>0.99</td>\n",
       "        <td>1</td>\n",
       "        <td>91</td>\n",
       "    </tr>\n",
       "    <tr>\n",
       "        <td>5</td>\n",
       "        <td>1</td>\n",
       "        <td>1162</td>\n",
       "        <td>0.99</td>\n",
       "        <td>1</td>\n",
       "        <td>91</td>\n",
       "    </tr>\n",
       "    <tr>\n",
       "        <td>6</td>\n",
       "        <td>1</td>\n",
       "        <td>1163</td>\n",
       "        <td>0.99</td>\n",
       "        <td>1</td>\n",
       "        <td>91</td>\n",
       "    </tr>\n",
       "    <tr>\n",
       "        <td>7</td>\n",
       "        <td>1</td>\n",
       "        <td>1164</td>\n",
       "        <td>0.99</td>\n",
       "        <td>1</td>\n",
       "        <td>91</td>\n",
       "    </tr>\n",
       "    <tr>\n",
       "        <td>8</td>\n",
       "        <td>1</td>\n",
       "        <td>1165</td>\n",
       "        <td>0.99</td>\n",
       "        <td>1</td>\n",
       "        <td>91</td>\n",
       "    </tr>\n",
       "    <tr>\n",
       "        <td>9</td>\n",
       "        <td>1</td>\n",
       "        <td>1166</td>\n",
       "        <td>0.99</td>\n",
       "        <td>1</td>\n",
       "        <td>91</td>\n",
       "    </tr>\n",
       "    <tr>\n",
       "        <td>10</td>\n",
       "        <td>1</td>\n",
       "        <td>1167</td>\n",
       "        <td>0.99</td>\n",
       "        <td>1</td>\n",
       "        <td>91</td>\n",
       "    </tr>\n",
       "</table>"
      ],
      "text/plain": [
       "[(1, 1, 1158, 0.99, 1, 91),\n",
       " (2, 1, 1159, 0.99, 1, 91),\n",
       " (3, 1, 1160, 0.99, 1, 91),\n",
       " (4, 1, 1161, 0.99, 1, 91),\n",
       " (5, 1, 1162, 0.99, 1, 91),\n",
       " (6, 1, 1163, 0.99, 1, 91),\n",
       " (7, 1, 1164, 0.99, 1, 91),\n",
       " (8, 1, 1165, 0.99, 1, 91),\n",
       " (9, 1, 1166, 0.99, 1, 91),\n",
       " (10, 1, 1167, 0.99, 1, 91)]"
      ]
     },
     "execution_count": 8,
     "metadata": {},
     "output_type": "execute_result"
    }
   ],
   "source": [
    "%%sql\n",
    "SELECT ln.*, tr.album_id\n",
    "FROM invoice_line ln\n",
    "INNER JOIN track tr ON tr.track_id = ln.track_id\n",
    "LIMIT 10"
   ]
  },
  {
   "cell_type": "code",
   "execution_count": 12,
   "metadata": {
    "collapsed": false
   },
   "outputs": [
    {
     "name": "stdout",
     "output_type": "stream",
     "text": [
      "Done.\n"
     ]
    },
    {
     "data": {
      "text/html": [
       "<table>\n",
       "    <tr>\n",
       "        <th>album_invoices</th>\n",
       "        <th>percentage_album_invoices</th>\n",
       "        <th>non_album_invoices</th>\n",
       "        <th>total_invoice_count</th>\n",
       "        <th>percentage_non_album_invoices</th>\n",
       "    </tr>\n",
       "    <tr>\n",
       "        <td>114</td>\n",
       "        <td>0.18566775244299674</td>\n",
       "        <td>500</td>\n",
       "        <td>614</td>\n",
       "        <td>0.8143322475570033</td>\n",
       "    </tr>\n",
       "</table>"
      ],
      "text/plain": [
       "[(114, 0.18566775244299674, 500, 614, 0.8143322475570033)]"
      ]
     },
     "execution_count": 12,
     "metadata": {},
     "output_type": "execute_result"
    }
   ],
   "source": [
    "%%sql\n",
    "WITH album_distinct_tracks AS \n",
    "(\n",
    "SELECT a.album_id album_id, \n",
    "        a.title title, \n",
    "        COUNT(DISTINCT(t.track_id)) album_track_num\n",
    "FROM album a\n",
    "INNER JOIN track t ON a.album_id = t.album_id\n",
    "GROUP BY 1\n",
    "),\n",
    "\n",
    "album_purchase_invoice AS \n",
    "(\n",
    "SELECT il.invoice_id invoice_id, \n",
    "        COUNT(DISTINCT(t.album_id)) invoice_album_count,\n",
    "        COUNT(DISTINCT(t.track_id)) invoice_track_count,\n",
    "        adt.album_track_num,\n",
    "        t.album_id album_id,\n",
    "        a.title album_title\n",
    "FROM invoice_line il\n",
    "INNER JOIN track t ON il.track_id = t.track_id\n",
    "INNER JOIN album a ON t.album_id = a.album_id\n",
    "INNER JOIN album_distinct_tracks adt ON adt.album_id = a.album_id\n",
    "GROUP BY 1\n",
    "HAVING ((invoice_album_count = 1) AND (invoice_track_count = adt.album_track_num))\n",
    "),\n",
    "\n",
    "total_invoice_count AS\n",
    "(\n",
    "SELECT COUNT(i.invoice_id)\n",
    "FROM invoice i\n",
    "),\n",
    "\n",
    "album_invoice_count AS\n",
    "(\n",
    "SELECT COUNT(api.invoice_id)\n",
    "FROM album_purchase_invoice api\n",
    "),\n",
    "\n",
    "non_album_invoice_count AS\n",
    "(\n",
    "SELECT album_invoice_count.*\n",
    "FROM album_invoice_count\n",
    ")\n",
    "\n",
    "SELECT COUNT(api.invoice_id) album_invoices,\n",
    "        CAST(COUNT(api.invoice_id) AS FLOAT)/(SELECT * FROM total_invoice_count) percentage_album_invoices,\n",
    "        (SELECT * FROM total_invoice_count) - COUNT(api.invoice_id) non_album_invoices,\n",
    "        (SELECT * FROM total_invoice_count) total_invoice_count,\n",
    "        (((SELECT * FROM total_invoice_count) - COUNT(api.invoice_id))/CAST((SELECT * FROM total_invoice_count) AS FLOAT)) percentage_non_album_invoices\n",
    "FROM album_purchase_invoice api"
   ]
  },
  {
   "cell_type": "markdown",
   "metadata": {},
   "source": [
    "We first looked at how many different tracks were in each album. As we are ignoring the ege cases where customers purchase all tracks from an album and then some other individual tracks and instead only looking for purchases of singular full items, we then look in album_purchase_invoice for invoices with a single album, where there's only one distinct album ID and the same number of tracks as the full album. \n",
    "\n",
    "We then use some more subqueries each to get our final numbers.\n",
    "\n",
    "Then we get our final table fully formatted, and see almost 19% of purchases are single albums. The Chinook store should likely continue to purchase full albums, as that is a significant amount of income."
   ]
  },
  {
   "cell_type": "markdown",
   "metadata": {},
   "source": [
    "### Conclusion\n",
    "\n",
    "This project while a little all over the place, was able to show many applications of advanced SQL subqueries to make rational and informed business decisions.\n",
    "\n",
    "Many of the complex queries here seem like they would be easier to construct by hand than by using SQL, but if the database had been mor extensie and realistic, that would no longer have been practical. \n",
    "\n",
    "Further analysis can be done on this daa, to find things like \"which artists are used more often in playlists\", or \"how many tracks have been purchased in the past versus never purchased\", but it would be more interesting with a larger data sample."
   ]
  },
  {
   "cell_type": "code",
   "execution_count": null,
   "metadata": {
    "collapsed": true
   },
   "outputs": [],
   "source": []
  }
 ],
 "metadata": {
  "kernelspec": {
   "display_name": "Python 3",
   "language": "python",
   "name": "python3"
  },
  "language_info": {
   "codemirror_mode": {
    "name": "ipython",
    "version": 3
   },
   "file_extension": ".py",
   "mimetype": "text/x-python",
   "name": "python",
   "nbconvert_exporter": "python",
   "pygments_lexer": "ipython3",
   "version": "3.4.3"
  }
 },
 "nbformat": 4,
 "nbformat_minor": 2
}
